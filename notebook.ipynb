{
 "cells": [
  {
   "cell_type": "code",
   "metadata": {
    "cell_id": "e2a2070f-2473-4736-b71d-c0fc8facca0a",
    "tags": [],
    "deepnote_to_be_reexecuted": false,
    "source_hash": "35374e32",
    "execution_start": 1647027891407,
    "execution_millis": 1429,
    "deepnote_cell_type": "code",
    "deepnote_cell_height": 117
   },
   "source": "import numpy as np\nimport pandas as pd\nimport matplotlib.pyplot as plt",
   "execution_count": 1,
   "outputs": []
  },
  {
   "cell_type": "markdown",
   "source": "Importar datos",
   "metadata": {
    "cell_id": "a2d58bd5-7a1a-44c2-9dbf-b4d10d418ba3",
    "tags": [],
    "deepnote_cell_type": "markdown",
    "deepnote_cell_height": 52.390625
   }
  },
  {
   "cell_type": "code",
   "metadata": {
    "cell_id": "3dbdf21f-89a6-4e15-8cbc-4e0947ac68df",
    "tags": [],
    "deepnote_to_be_reexecuted": false,
    "source_hash": "56a46059",
    "execution_start": 1647027892875,
    "execution_millis": 23,
    "deepnote_cell_type": "code",
    "deepnote_cell_height": 445.796875
   },
   "source": "data = pd.read_csv('/work/Bot-de-Trafing//GOOG.csv')\ndata.head()\n",
   "execution_count": 2,
   "outputs": [
    {
     "output_type": "execute_result",
     "execution_count": 2,
     "data": {
      "application/vnd.deepnote.dataframe.v3+json": {
       "column_count": 7,
       "row_count": 5,
       "columns": [
        {
         "name": "Date",
         "dtype": "object",
         "stats": {
          "unique_count": 5,
          "nan_count": 0,
          "categories": [
           {
            "name": "2016-01-04",
            "count": 1
           },
           {
            "name": "2016-01-05",
            "count": 1
           },
           {
            "name": "3 others",
            "count": 3
           }
          ]
         }
        },
        {
         "name": "Open",
         "dtype": "float64",
         "stats": {
          "unique_count": 5,
          "nan_count": 0,
          "min": "730.0",
          "max": "746.450012",
          "histogram": [
           {
            "bin_start": 730,
            "bin_end": 731.6450012,
            "count": 3
           },
           {
            "bin_start": 731.6450012,
            "bin_end": 733.2900024,
            "count": 0
           },
           {
            "bin_start": 733.2900024,
            "bin_end": 734.9350036,
            "count": 0
           },
           {
            "bin_start": 734.9350036,
            "bin_end": 736.5800048,
            "count": 0
           },
           {
            "bin_start": 736.5800048,
            "bin_end": 738.225006,
            "count": 0
           },
           {
            "bin_start": 738.225006,
            "bin_end": 739.8700072,
            "count": 0
           },
           {
            "bin_start": 739.8700072,
            "bin_end": 741.5150084,
            "count": 0
           },
           {
            "bin_start": 741.5150084,
            "bin_end": 743.1600096,
            "count": 1
           },
           {
            "bin_start": 743.1600096,
            "bin_end": 744.8050108,
            "count": 0
           },
           {
            "bin_start": 744.8050108,
            "bin_end": 746.450012,
            "count": 1
           }
          ]
         }
        },
        {
         "name": "High",
         "dtype": "float64",
         "stats": {
          "unique_count": 5,
          "nan_count": 0,
          "min": "733.22998",
          "max": "752.0",
          "histogram": [
           {
            "bin_start": 733.22998,
            "bin_end": 735.106982,
            "count": 1
           },
           {
            "bin_start": 735.106982,
            "bin_end": 736.983984,
            "count": 0
           },
           {
            "bin_start": 736.983984,
            "bin_end": 738.8609859999999,
            "count": 1
           },
           {
            "bin_start": 738.8609859999999,
            "bin_end": 740.737988,
            "count": 0
           },
           {
            "bin_start": 740.737988,
            "bin_end": 742.61499,
            "count": 0
           },
           {
            "bin_start": 742.61499,
            "bin_end": 744.491992,
            "count": 1
           },
           {
            "bin_start": 744.491992,
            "bin_end": 746.3689939999999,
            "count": 0
           },
           {
            "bin_start": 746.3689939999999,
            "bin_end": 748.245996,
            "count": 1
           },
           {
            "bin_start": 748.245996,
            "bin_end": 750.122998,
            "count": 0
           },
           {
            "bin_start": 750.122998,
            "bin_end": 752,
            "count": 1
           }
          ]
         }
        },
        {
         "name": "Low",
         "dtype": "float64",
         "stats": {
          "unique_count": 5,
          "nan_count": 0,
          "min": "713.0",
          "max": "738.640015",
          "histogram": [
           {
            "bin_start": 713,
            "bin_end": 715.5640015,
            "count": 1
           },
           {
            "bin_start": 715.5640015,
            "bin_end": 718.128003,
            "count": 0
           },
           {
            "bin_start": 718.128003,
            "bin_end": 720.6920044999999,
            "count": 1
           },
           {
            "bin_start": 720.6920044999999,
            "bin_end": 723.256006,
            "count": 0
           },
           {
            "bin_start": 723.256006,
            "bin_end": 725.8200075,
            "count": 0
           },
           {
            "bin_start": 725.8200075,
            "bin_end": 728.384009,
            "count": 0
           },
           {
            "bin_start": 728.384009,
            "bin_end": 730.9480105,
            "count": 1
           },
           {
            "bin_start": 730.9480105,
            "bin_end": 733.5120119999999,
            "count": 1
           },
           {
            "bin_start": 733.5120119999999,
            "bin_end": 736.0760134999999,
            "count": 0
           },
           {
            "bin_start": 736.0760134999999,
            "bin_end": 738.640015,
            "count": 1
           }
          ]
         }
        },
        {
         "name": "Close",
         "dtype": "float64",
         "stats": {
          "unique_count": 5,
          "nan_count": 0,
          "min": "714.469971",
          "max": "743.619995",
          "histogram": [
           {
            "bin_start": 714.469971,
            "bin_end": 717.3849734,
            "count": 1
           },
           {
            "bin_start": 717.3849734,
            "bin_end": 720.2999758,
            "count": 0
           },
           {
            "bin_start": 720.2999758,
            "bin_end": 723.2149782,
            "count": 0
           },
           {
            "bin_start": 723.2149782,
            "bin_end": 726.1299806,
            "count": 0
           },
           {
            "bin_start": 726.1299806,
            "bin_end": 729.044983,
            "count": 1
           },
           {
            "bin_start": 729.044983,
            "bin_end": 731.9599854,
            "count": 0
           },
           {
            "bin_start": 731.9599854,
            "bin_end": 734.8749878,
            "count": 0
           },
           {
            "bin_start": 734.8749878,
            "bin_end": 737.7899902,
            "count": 0
           },
           {
            "bin_start": 737.7899902,
            "bin_end": 740.7049926,
            "count": 0
           },
           {
            "bin_start": 740.7049926,
            "bin_end": 743.619995,
            "count": 3
           }
          ]
         }
        },
        {
         "name": "Adj Close",
         "dtype": "float64",
         "stats": {
          "unique_count": 5,
          "nan_count": 0,
          "min": "714.469971",
          "max": "743.619995",
          "histogram": [
           {
            "bin_start": 714.469971,
            "bin_end": 717.3849734,
            "count": 1
           },
           {
            "bin_start": 717.3849734,
            "bin_end": 720.2999758,
            "count": 0
           },
           {
            "bin_start": 720.2999758,
            "bin_end": 723.2149782,
            "count": 0
           },
           {
            "bin_start": 723.2149782,
            "bin_end": 726.1299806,
            "count": 0
           },
           {
            "bin_start": 726.1299806,
            "bin_end": 729.044983,
            "count": 1
           },
           {
            "bin_start": 729.044983,
            "bin_end": 731.9599854,
            "count": 0
           },
           {
            "bin_start": 731.9599854,
            "bin_end": 734.8749878,
            "count": 0
           },
           {
            "bin_start": 734.8749878,
            "bin_end": 737.7899902,
            "count": 0
           },
           {
            "bin_start": 737.7899902,
            "bin_end": 740.7049926,
            "count": 0
           },
           {
            "bin_start": 740.7049926,
            "bin_end": 743.619995,
            "count": 3
           }
          ]
         }
        },
        {
         "name": "Volume",
         "dtype": "int64",
         "stats": {
          "unique_count": 5,
          "nan_count": 0,
          "min": "1947000",
          "max": "3272800",
          "histogram": [
           {
            "bin_start": 1947000,
            "bin_end": 2079580,
            "count": 2
           },
           {
            "bin_start": 2079580,
            "bin_end": 2212160,
            "count": 0
           },
           {
            "bin_start": 2212160,
            "bin_end": 2344740,
            "count": 0
           },
           {
            "bin_start": 2344740,
            "bin_end": 2477320,
            "count": 1
           },
           {
            "bin_start": 2477320,
            "bin_end": 2609900,
            "count": 0
           },
           {
            "bin_start": 2609900,
            "bin_end": 2742480,
            "count": 0
           },
           {
            "bin_start": 2742480,
            "bin_end": 2875060,
            "count": 0
           },
           {
            "bin_start": 2875060,
            "bin_end": 3007640,
            "count": 1
           },
           {
            "bin_start": 3007640,
            "bin_end": 3140220,
            "count": 0
           },
           {
            "bin_start": 3140220,
            "bin_end": 3272800,
            "count": 1
           }
          ]
         }
        },
        {
         "name": "_deepnote_index_column",
         "dtype": "int64"
        }
       ],
       "rows": [
        {
         "Date": "2016-01-04",
         "Open": 743,
         "High": 744.059998,
         "Low": 731.257996,
         "Close": 741.840027,
         "Adj Close": 741.840027,
         "Volume": 3272800,
         "_deepnote_index_column": 0
        },
        {
         "Date": "2016-01-05",
         "Open": 746.450012,
         "High": 752,
         "Low": 738.640015,
         "Close": 742.580017,
         "Adj Close": 742.580017,
         "Volume": 1950700,
         "_deepnote_index_column": 1
        },
        {
         "Date": "2016-01-06",
         "Open": 730,
         "High": 747.179993,
         "Low": 728.919983,
         "Close": 743.619995,
         "Adj Close": 743.619995,
         "Volume": 1947000,
         "_deepnote_index_column": 2
        },
        {
         "Date": "2016-01-07",
         "Open": 730.309998,
         "High": 738.5,
         "Low": 719.059998,
         "Close": 726.390015,
         "Adj Close": 726.390015,
         "Volume": 2963700,
         "_deepnote_index_column": 3
        },
        {
         "Date": "2016-01-08",
         "Open": 731.450012,
         "High": 733.22998,
         "Low": 713,
         "Close": 714.469971,
         "Adj Close": 714.469971,
         "Volume": 2450900,
         "_deepnote_index_column": 4
        }
       ]
      },
      "text/plain": "         Date        Open        High         Low       Close   Adj Close  \\\n0  2016-01-04  743.000000  744.059998  731.257996  741.840027  741.840027   \n1  2016-01-05  746.450012  752.000000  738.640015  742.580017  742.580017   \n2  2016-01-06  730.000000  747.179993  728.919983  743.619995  743.619995   \n3  2016-01-07  730.309998  738.500000  719.059998  726.390015  726.390015   \n4  2016-01-08  731.450012  733.229980  713.000000  714.469971  714.469971   \n\n    Volume  \n0  3272800  \n1  1950700  \n2  1947000  \n3  2963700  \n4  2450900  ",
      "text/html": "<div>\n<style scoped>\n    .dataframe tbody tr th:only-of-type {\n        vertical-align: middle;\n    }\n\n    .dataframe tbody tr th {\n        vertical-align: top;\n    }\n\n    .dataframe thead th {\n        text-align: right;\n    }\n</style>\n<table border=\"1\" class=\"dataframe\">\n  <thead>\n    <tr style=\"text-align: right;\">\n      <th></th>\n      <th>Date</th>\n      <th>Open</th>\n      <th>High</th>\n      <th>Low</th>\n      <th>Close</th>\n      <th>Adj Close</th>\n      <th>Volume</th>\n    </tr>\n  </thead>\n  <tbody>\n    <tr>\n      <th>0</th>\n      <td>2016-01-04</td>\n      <td>743.000000</td>\n      <td>744.059998</td>\n      <td>731.257996</td>\n      <td>741.840027</td>\n      <td>741.840027</td>\n      <td>3272800</td>\n    </tr>\n    <tr>\n      <th>1</th>\n      <td>2016-01-05</td>\n      <td>746.450012</td>\n      <td>752.000000</td>\n      <td>738.640015</td>\n      <td>742.580017</td>\n      <td>742.580017</td>\n      <td>1950700</td>\n    </tr>\n    <tr>\n      <th>2</th>\n      <td>2016-01-06</td>\n      <td>730.000000</td>\n      <td>747.179993</td>\n      <td>728.919983</td>\n      <td>743.619995</td>\n      <td>743.619995</td>\n      <td>1947000</td>\n    </tr>\n    <tr>\n      <th>3</th>\n      <td>2016-01-07</td>\n      <td>730.309998</td>\n      <td>738.500000</td>\n      <td>719.059998</td>\n      <td>726.390015</td>\n      <td>726.390015</td>\n      <td>2963700</td>\n    </tr>\n    <tr>\n      <th>4</th>\n      <td>2016-01-08</td>\n      <td>731.450012</td>\n      <td>733.229980</td>\n      <td>713.000000</td>\n      <td>714.469971</td>\n      <td>714.469971</td>\n      <td>2450900</td>\n    </tr>\n  </tbody>\n</table>\n</div>"
     },
     "metadata": {}
    }
   ]
  },
  {
   "cell_type": "code",
   "metadata": {
    "cell_id": "eb308bec-3501-44ef-a184-1c866df656d5",
    "tags": [],
    "deepnote_to_be_reexecuted": false,
    "source_hash": "d786443f",
    "execution_start": 1647027892910,
    "execution_millis": 71,
    "deepnote_cell_type": "code",
    "deepnote_cell_height": 516
   },
   "source": "data.describe()",
   "execution_count": 3,
   "outputs": [
    {
     "output_type": "execute_result",
     "execution_count": 3,
     "data": {
      "application/vnd.deepnote.dataframe.v3+json": {
       "column_count": 6,
       "row_count": 8,
       "columns": [
        {
         "name": "Open",
         "dtype": "float64",
         "stats": {
          "unique_count": 8,
          "nan_count": 0,
          "min": "636.005832019513",
          "max": "3037.27002",
          "histogram": [
           {
            "bin_start": 636.005832019513,
            "bin_end": 876.1322508175617,
            "count": 2
           },
           {
            "bin_start": 876.1322508175617,
            "bin_end": 1116.2586696156104,
            "count": 1
           },
           {
            "bin_start": 1116.2586696156104,
            "bin_end": 1356.385088413659,
            "count": 1
           },
           {
            "bin_start": 1356.385088413659,
            "bin_end": 1596.5115072117078,
            "count": 3
           },
           {
            "bin_start": 1596.5115072117078,
            "bin_end": 1836.6379260097565,
            "count": 0
           },
           {
            "bin_start": 1836.6379260097565,
            "bin_end": 2076.764344807805,
            "count": 0
           },
           {
            "bin_start": 2076.764344807805,
            "bin_end": 2316.890763605854,
            "count": 0
           },
           {
            "bin_start": 2316.890763605854,
            "bin_end": 2557.0171824039026,
            "count": 0
           },
           {
            "bin_start": 2557.0171824039026,
            "bin_end": 2797.1436012019512,
            "count": 0
           },
           {
            "bin_start": 2797.1436012019512,
            "bin_end": 3037.27002,
            "count": 1
           }
          ]
         }
        },
        {
         "name": "High",
         "dtype": "float64",
         "stats": {
          "unique_count": 8,
          "nan_count": 0,
          "min": "642.2460097386182",
          "max": "3042.0",
          "histogram": [
           {
            "bin_start": 642.2460097386182,
            "bin_end": 882.2214087647565,
            "count": 2
           },
           {
            "bin_start": 882.2214087647565,
            "bin_end": 1122.1968077908946,
            "count": 1
           },
           {
            "bin_start": 1122.1968077908946,
            "bin_end": 1362.172206817033,
            "count": 1
           },
           {
            "bin_start": 1362.172206817033,
            "bin_end": 1602.1476058431708,
            "count": 3
           },
           {
            "bin_start": 1602.1476058431708,
            "bin_end": 1842.1230048693092,
            "count": 0
           },
           {
            "bin_start": 1842.1230048693092,
            "bin_end": 2082.0984038954475,
            "count": 0
           },
           {
            "bin_start": 2082.0984038954475,
            "bin_end": 2322.0738029215854,
            "count": 0
           },
           {
            "bin_start": 2322.0738029215854,
            "bin_end": 2562.0492019477238,
            "count": 0
           },
           {
            "bin_start": 2562.0492019477238,
            "bin_end": 2802.024600973862,
            "count": 0
           },
           {
            "bin_start": 2802.024600973862,
            "bin_end": 3042,
            "count": 1
           }
          ]
         }
        },
        {
         "name": "Low",
         "dtype": "float64",
         "stats": {
          "unique_count": 8,
          "nan_count": 0,
          "min": "629.5185009836808",
          "max": "2997.75",
          "histogram": [
           {
            "bin_start": 629.5185009836808,
            "bin_end": 866.3416508853127,
            "count": 2
           },
           {
            "bin_start": 866.3416508853127,
            "bin_end": 1103.1648007869446,
            "count": 1
           },
           {
            "bin_start": 1103.1648007869446,
            "bin_end": 1339.9879506885763,
            "count": 1
           },
           {
            "bin_start": 1339.9879506885763,
            "bin_end": 1576.8111005902083,
            "count": 3
           },
           {
            "bin_start": 1576.8111005902083,
            "bin_end": 1813.6342504918402,
            "count": 0
           },
           {
            "bin_start": 1813.6342504918402,
            "bin_end": 2050.457400393472,
            "count": 0
           },
           {
            "bin_start": 2050.457400393472,
            "bin_end": 2287.280550295104,
            "count": 0
           },
           {
            "bin_start": 2287.280550295104,
            "bin_end": 2524.103700196736,
            "count": 0
           },
           {
            "bin_start": 2524.103700196736,
            "bin_end": 2760.926850098368,
            "count": 0
           },
           {
            "bin_start": 2760.926850098368,
            "bin_end": 2997.75,
            "count": 1
           }
          ]
         }
        },
        {
         "name": "Close",
         "dtype": "float64",
         "stats": {
          "unique_count": 8,
          "nan_count": 0,
          "min": "635.804921028128",
          "max": "3014.179932",
          "histogram": [
           {
            "bin_start": 635.804921028128,
            "bin_end": 873.6424221253152,
            "count": 2
           },
           {
            "bin_start": 873.6424221253152,
            "bin_end": 1111.4799232225023,
            "count": 1
           },
           {
            "bin_start": 1111.4799232225023,
            "bin_end": 1349.3174243196895,
            "count": 1
           },
           {
            "bin_start": 1349.3174243196895,
            "bin_end": 1587.1549254168767,
            "count": 3
           },
           {
            "bin_start": 1587.1549254168767,
            "bin_end": 1824.992426514064,
            "count": 0
           },
           {
            "bin_start": 1824.992426514064,
            "bin_end": 2062.829927611251,
            "count": 0
           },
           {
            "bin_start": 2062.829927611251,
            "bin_end": 2300.6674287084384,
            "count": 0
           },
           {
            "bin_start": 2300.6674287084384,
            "bin_end": 2538.5049298056256,
            "count": 0
           },
           {
            "bin_start": 2538.5049298056256,
            "bin_end": 2776.342430902813,
            "count": 0
           },
           {
            "bin_start": 2776.342430902813,
            "bin_end": 3014.179932,
            "count": 1
           }
          ]
         }
        },
        {
         "name": "Adj Close",
         "dtype": "float64",
         "stats": {
          "unique_count": 8,
          "nan_count": 0,
          "min": "635.804921028128",
          "max": "3014.179932",
          "histogram": [
           {
            "bin_start": 635.804921028128,
            "bin_end": 873.6424221253152,
            "count": 2
           },
           {
            "bin_start": 873.6424221253152,
            "bin_end": 1111.4799232225023,
            "count": 1
           },
           {
            "bin_start": 1111.4799232225023,
            "bin_end": 1349.3174243196895,
            "count": 1
           },
           {
            "bin_start": 1349.3174243196895,
            "bin_end": 1587.1549254168767,
            "count": 3
           },
           {
            "bin_start": 1587.1549254168767,
            "bin_end": 1824.992426514064,
            "count": 0
           },
           {
            "bin_start": 1824.992426514064,
            "bin_end": 2062.829927611251,
            "count": 0
           },
           {
            "bin_start": 2062.829927611251,
            "bin_end": 2300.6674287084384,
            "count": 0
           },
           {
            "bin_start": 2300.6674287084384,
            "bin_end": 2538.5049298056256,
            "count": 0
           },
           {
            "bin_start": 2538.5049298056256,
            "bin_end": 2776.342430902813,
            "count": 0
           },
           {
            "bin_start": 2776.342430902813,
            "bin_end": 3014.179932,
            "count": 1
           }
          ]
         }
        },
        {
         "name": "Volume",
         "dtype": "float64",
         "stats": {
          "unique_count": 8,
          "nan_count": 0,
          "min": "1552.0",
          "max": "6348100.0",
          "histogram": [
           {
            "bin_start": 1552,
            "bin_end": 636206.8,
            "count": 2
           },
           {
            "bin_start": 636206.8,
            "bin_end": 1270861.6,
            "count": 2
           },
           {
            "bin_start": 1270861.6,
            "bin_end": 1905516.4000000001,
            "count": 3
           },
           {
            "bin_start": 1905516.4000000001,
            "bin_end": 2540171.2,
            "count": 0
           },
           {
            "bin_start": 2540171.2,
            "bin_end": 3174826,
            "count": 0
           },
           {
            "bin_start": 3174826,
            "bin_end": 3809480.8000000003,
            "count": 0
           },
           {
            "bin_start": 3809480.8000000003,
            "bin_end": 4444135.600000001,
            "count": 0
           },
           {
            "bin_start": 4444135.600000001,
            "bin_end": 5078790.4,
            "count": 0
           },
           {
            "bin_start": 5078790.4,
            "bin_end": 5713445.2,
            "count": 0
           },
           {
            "bin_start": 5713445.2,
            "bin_end": 6348100,
            "count": 1
           }
          ]
         }
        },
        {
         "name": "_deepnote_index_column",
         "dtype": "object"
        }
       ],
       "rows": [
        {
         "Open": 1552,
         "High": 1552,
         "Low": 1552,
         "Close": 1552,
         "Adj Close": 1552,
         "Volume": 1552,
         "_deepnote_index_column": "count"
        },
        {
         "Open": 1363.2510311475514,
         "High": 1376.5366550186857,
         "Low": 1350.485274878866,
         "Close": 1363.907908925258,
         "Adj Close": 1363.907908925258,
         "Volume": 1606225.7731958763,
         "_deepnote_index_column": "mean"
        },
        {
         "Open": 636.005832019513,
         "High": 642.2460097386182,
         "Low": 629.5185009836808,
         "Close": 635.804921028128,
         "Adj Close": 635.804921028128,
         "Volume": 743477.0346749262,
         "_deepnote_index_column": "std"
        },
        {
         "Open": 667.849976,
         "High": 672.299988,
         "Low": 663.059998,
         "Close": 668.26001,
         "Adj Close": 668.26001,
         "Volume": 346800,
         "_deepnote_index_column": "min"
        },
        {
         "Open": 932.5375214999999,
         "High": 937.48675525,
         "Low": 925.9324797500001,
         "Close": 932.207474,
         "Adj Close": 932.207474,
         "Volume": 1145050,
         "_deepnote_index_column": "25%"
        },
        {
         "Open": 1146.450012,
         "High": 1158.549988,
         "Low": 1136.341003,
         "Close": 1149.9849855,
         "Adj Close": 1149.9849855,
         "Volume": 1411900,
         "_deepnote_index_column": "50%"
        },
        {
         "Open": 1512.0300295,
         "High": 1525.82748375,
         "Low": 1498.105011,
         "Close": 1515.58255025,
         "Adj Close": 1515.58255025,
         "Volume": 1828925,
         "_deepnote_index_column": "75%"
        },
        {
         "Open": 3037.27002,
         "High": 3042,
         "Low": 2997.75,
         "Close": 3014.179932,
         "Adj Close": 3014.179932,
         "Volume": 6348100,
         "_deepnote_index_column": "max"
        }
       ]
      },
      "text/plain": "              Open         High          Low        Close    Adj Close  \\\ncount  1552.000000  1552.000000  1552.000000  1552.000000  1552.000000   \nmean   1363.251031  1376.536655  1350.485275  1363.907909  1363.907909   \nstd     636.005832   642.246010   629.518501   635.804921   635.804921   \nmin     667.849976   672.299988   663.059998   668.260010   668.260010   \n25%     932.537521   937.486755   925.932480   932.207474   932.207474   \n50%    1146.450012  1158.549988  1136.341003  1149.984985  1149.984985   \n75%    1512.030029  1525.827484  1498.105011  1515.582550  1515.582550   \nmax    3037.270020  3042.000000  2997.750000  3014.179932  3014.179932   \n\n             Volume  \ncount  1.552000e+03  \nmean   1.606226e+06  \nstd    7.434770e+05  \nmin    3.468000e+05  \n25%    1.145050e+06  \n50%    1.411900e+06  \n75%    1.828925e+06  \nmax    6.348100e+06  ",
      "text/html": "<div>\n<style scoped>\n    .dataframe tbody tr th:only-of-type {\n        vertical-align: middle;\n    }\n\n    .dataframe tbody tr th {\n        vertical-align: top;\n    }\n\n    .dataframe thead th {\n        text-align: right;\n    }\n</style>\n<table border=\"1\" class=\"dataframe\">\n  <thead>\n    <tr style=\"text-align: right;\">\n      <th></th>\n      <th>Open</th>\n      <th>High</th>\n      <th>Low</th>\n      <th>Close</th>\n      <th>Adj Close</th>\n      <th>Volume</th>\n    </tr>\n  </thead>\n  <tbody>\n    <tr>\n      <th>count</th>\n      <td>1552.000000</td>\n      <td>1552.000000</td>\n      <td>1552.000000</td>\n      <td>1552.000000</td>\n      <td>1552.000000</td>\n      <td>1.552000e+03</td>\n    </tr>\n    <tr>\n      <th>mean</th>\n      <td>1363.251031</td>\n      <td>1376.536655</td>\n      <td>1350.485275</td>\n      <td>1363.907909</td>\n      <td>1363.907909</td>\n      <td>1.606226e+06</td>\n    </tr>\n    <tr>\n      <th>std</th>\n      <td>636.005832</td>\n      <td>642.246010</td>\n      <td>629.518501</td>\n      <td>635.804921</td>\n      <td>635.804921</td>\n      <td>7.434770e+05</td>\n    </tr>\n    <tr>\n      <th>min</th>\n      <td>667.849976</td>\n      <td>672.299988</td>\n      <td>663.059998</td>\n      <td>668.260010</td>\n      <td>668.260010</td>\n      <td>3.468000e+05</td>\n    </tr>\n    <tr>\n      <th>25%</th>\n      <td>932.537521</td>\n      <td>937.486755</td>\n      <td>925.932480</td>\n      <td>932.207474</td>\n      <td>932.207474</td>\n      <td>1.145050e+06</td>\n    </tr>\n    <tr>\n      <th>50%</th>\n      <td>1146.450012</td>\n      <td>1158.549988</td>\n      <td>1136.341003</td>\n      <td>1149.984985</td>\n      <td>1149.984985</td>\n      <td>1.411900e+06</td>\n    </tr>\n    <tr>\n      <th>75%</th>\n      <td>1512.030029</td>\n      <td>1525.827484</td>\n      <td>1498.105011</td>\n      <td>1515.582550</td>\n      <td>1515.582550</td>\n      <td>1.828925e+06</td>\n    </tr>\n    <tr>\n      <th>max</th>\n      <td>3037.270020</td>\n      <td>3042.000000</td>\n      <td>2997.750000</td>\n      <td>3014.179932</td>\n      <td>3014.179932</td>\n      <td>6.348100e+06</td>\n    </tr>\n  </tbody>\n</table>\n</div>"
     },
     "metadata": {}
    }
   ]
  },
  {
   "cell_type": "markdown",
   "source": "Graficar los datos",
   "metadata": {
    "cell_id": "42550a17-42c9-439b-8b36-4989513fb160",
    "tags": [],
    "deepnote_cell_type": "markdown",
    "deepnote_cell_height": 52.390625
   }
  },
  {
   "cell_type": "code",
   "metadata": {
    "cell_id": "7fc34702-03d1-4a48-9e11-5ab9f049c5c0",
    "tags": [],
    "deepnote_to_be_reexecuted": false,
    "source_hash": "bb6fbfa4",
    "execution_start": 1647027892991,
    "execution_millis": 464,
    "deepnote_cell_type": "code",
    "deepnote_cell_height": 540,
    "deepnote_output_heights": [
     335
    ]
   },
   "source": "plt.figure(figsize=(10, 5))\nplt.plot(data['Close'], label =('Google stock'))\nplt.title('Precio de las acciones de google desde el  2016-2022')\nplt.xlabel('3 de junio 2016 hasta 1 de marzo 2022')\nplt.ylabel('precio de cierre en ($)')\nplt.legend(loc ='upper left')\nplt.show()",
   "execution_count": 4,
   "outputs": [
    {
     "data": {
      "text/plain": "<Figure size 720x360 with 1 Axes>",
      "image/png": "[encoded data removed]"
     },
     "metadata": {
      "needs_background": "light",
      "image/png": {
       "width": 621,
       "height": 333
      }
     },
     "output_type": "display_data"
    }
   ]
  },
  {
   "cell_type": "code",
   "metadata": {
    "cell_id": "45633028-2f92-433d-9d11-5dd7f09e87e5",
    "tags": [],
    "deepnote_to_be_reexecuted": false,
    "source_hash": "216ac24b",
    "execution_start": 1647027893368,
    "execution_millis": 88,
    "deepnote_table_state": {
     "pageSize": 10,
     "pageIndex": 0,
     "filters": [],
     "sortBy": []
    },
    "deepnote_table_loading": false,
    "deepnote_cell_type": "code",
    "deepnote_cell_height": 634
   },
   "source": "mvs30 = pd.DataFrame()\nmvs30['Close'] = data['Close'].rolling(window=30).mean()\nmvs30",
   "execution_count": 5,
   "outputs": [
    {
     "output_type": "execute_result",
     "execution_count": 5,
     "data": {
      "application/vnd.deepnote.dataframe.v3+json": {
       "column_count": 1,
       "row_count": 1552,
       "columns": [
        {
         "name": "Close",
         "dtype": "float64",
         "stats": {
          "unique_count": 1523,
          "nan_count": 29,
          "min": "704.2339986000001",
          "max": "2940.4926757666667",
          "histogram": [
           {
            "bin_start": 704.2339986000001,
            "bin_end": 927.8598663166667,
            "count": 346
           },
           {
            "bin_start": 927.8598663166667,
            "bin_end": 1151.4857340333333,
            "count": 415
           },
           {
            "bin_start": 1151.4857340333333,
            "bin_end": 1375.1116017499999,
            "count": 282
           },
           {
            "bin_start": 1375.1116017499999,
            "bin_end": 1598.7374694666667,
            "count": 153
           },
           {
            "bin_start": 1598.7374694666667,
            "bin_end": 1822.3633371833334,
            "count": 57
           },
           {
            "bin_start": 1822.3633371833334,
            "bin_end": 2045.9892049,
            "count": 23
           },
           {
            "bin_start": 2045.9892049,
            "bin_end": 2269.6150726166666,
            "count": 40
           },
           {
            "bin_start": 2269.6150726166666,
            "bin_end": 2493.240940333333,
            "count": 41
           },
           {
            "bin_start": 2493.240940333333,
            "bin_end": 2716.8668080499997,
            "count": 39
           },
           {
            "bin_start": 2716.8668080499997,
            "bin_end": 2940.4926757666667,
            "count": 127
           }
          ]
         }
        },
        {
         "name": "_deepnote_index_column",
         "dtype": "int64"
        }
       ],
       "rows": [
        {
         "Close": "nan",
         "_deepnote_index_column": 0
        },
        {
         "Close": "nan",
         "_deepnote_index_column": 1
        },
        {
         "Close": "nan",
         "_deepnote_index_column": 2
        },
        {
         "Close": "nan",
         "_deepnote_index_column": 3
        },
        {
         "Close": "nan",
         "_deepnote_index_column": 4
        },
        {
         "Close": "nan",
         "_deepnote_index_column": 5
        },
        {
         "Close": "nan",
         "_deepnote_index_column": 6
        },
        {
         "Close": "nan",
         "_deepnote_index_column": 7
        },
        {
         "Close": "nan",
         "_deepnote_index_column": 8
        },
        {
         "Close": "nan",
         "_deepnote_index_column": 9
        }
       ]
      },
      "text/plain": "            Close\n0             NaN\n1             NaN\n2             NaN\n3             NaN\n4             NaN\n...           ...\n1547  2710.754012\n1548  2706.001677\n1549  2703.175008\n1550  2699.429346\n1551  2698.403345\n\n[1552 rows x 1 columns]",
      "text/html": "<div>\n<style scoped>\n    .dataframe tbody tr th:only-of-type {\n        vertical-align: middle;\n    }\n\n    .dataframe tbody tr th {\n        vertical-align: top;\n    }\n\n    .dataframe thead th {\n        text-align: right;\n    }\n</style>\n<table border=\"1\" class=\"dataframe\">\n  <thead>\n    <tr style=\"text-align: right;\">\n      <th></th>\n      <th>Close</th>\n    </tr>\n  </thead>\n  <tbody>\n    <tr>\n      <th>0</th>\n      <td>NaN</td>\n    </tr>\n    <tr>\n      <th>1</th>\n      <td>NaN</td>\n    </tr>\n    <tr>\n      <th>2</th>\n      <td>NaN</td>\n    </tr>\n    <tr>\n      <th>3</th>\n      <td>NaN</td>\n    </tr>\n    <tr>\n      <th>4</th>\n      <td>NaN</td>\n    </tr>\n    <tr>\n      <th>...</th>\n      <td>...</td>\n    </tr>\n    <tr>\n      <th>1547</th>\n      <td>2710.754012</td>\n    </tr>\n    <tr>\n      <th>1548</th>\n      <td>2706.001677</td>\n    </tr>\n    <tr>\n      <th>1549</th>\n      <td>2703.175008</td>\n    </tr>\n    <tr>\n      <th>1550</th>\n      <td>2699.429346</td>\n    </tr>\n    <tr>\n      <th>1551</th>\n      <td>2698.403345</td>\n    </tr>\n  </tbody>\n</table>\n<p>1552 rows × 1 columns</p>\n</div>"
     },
     "metadata": {}
    }
   ]
  },
  {
   "cell_type": "code",
   "metadata": {
    "cell_id": "8ca009a7-ae59-455d-9a5d-e44e9688e091",
    "tags": [],
    "deepnote_to_be_reexecuted": false,
    "source_hash": "1a235bf8",
    "execution_start": 1647027893370,
    "execution_millis": 87,
    "deepnote_table_state": {
     "pageSize": 10,
     "pageIndex": 0,
     "filters": [],
     "sortBy": []
    },
    "deepnote_table_loading": false,
    "deepnote_cell_type": "code",
    "deepnote_cell_height": 634
   },
   "source": "mvs100 = pd.DataFrame()\nmvs100['Close'] = data['Close'].rolling(window=100).mean()\nmvs100",
   "execution_count": 6,
   "outputs": [
    {
     "output_type": "execute_result",
     "execution_count": 6,
     "data": {
      "application/vnd.deepnote.dataframe.v3+json": {
       "column_count": 1,
       "row_count": 1552,
       "columns": [
        {
         "name": "Close",
         "dtype": "float64",
         "stats": {
          "unique_count": 1453,
          "nan_count": 99,
          "min": "716.93260131",
          "max": "2871.0729077400006",
          "histogram": [
           {
            "bin_start": 716.93260131,
            "bin_end": 932.346631953,
            "count": 325
           },
           {
            "bin_start": 932.346631953,
            "bin_end": 1147.7606625960002,
            "count": 365
           },
           {
            "bin_start": 1147.7606625960002,
            "bin_end": 1363.1746932390001,
            "count": 359
           },
           {
            "bin_start": 1363.1746932390001,
            "bin_end": 1578.5887238820003,
            "count": 89
           },
           {
            "bin_start": 1578.5887238820003,
            "bin_end": 1794.0027545250005,
            "count": 61
           },
           {
            "bin_start": 1794.0027545250005,
            "bin_end": 2009.4167851680004,
            "count": 43
           },
           {
            "bin_start": 2009.4167851680004,
            "bin_end": 2224.8308158110003,
            "count": 34
           },
           {
            "bin_start": 2224.8308158110003,
            "bin_end": 2440.2448464540007,
            "count": 36
           },
           {
            "bin_start": 2440.2448464540007,
            "bin_end": 2655.6588770970006,
            "count": 38
           },
           {
            "bin_start": 2655.6588770970006,
            "bin_end": 2871.0729077400006,
            "count": 103
           }
          ]
         }
        },
        {
         "name": "_deepnote_index_column",
         "dtype": "int64"
        }
       ],
       "rows": [
        {
         "Close": "nan",
         "_deepnote_index_column": 0
        },
        {
         "Close": "nan",
         "_deepnote_index_column": 1
        },
        {
         "Close": "nan",
         "_deepnote_index_column": 2
        },
        {
         "Close": "nan",
         "_deepnote_index_column": 3
        },
        {
         "Close": "nan",
         "_deepnote_index_column": 4
        },
        {
         "Close": "nan",
         "_deepnote_index_column": 5
        },
        {
         "Close": "nan",
         "_deepnote_index_column": 6
        },
        {
         "Close": "nan",
         "_deepnote_index_column": 7
        },
        {
         "Close": "nan",
         "_deepnote_index_column": 8
        },
        {
         "Close": "nan",
         "_deepnote_index_column": 9
        }
       ]
      },
      "text/plain": "            Close\n0             NaN\n1             NaN\n2             NaN\n3             NaN\n4             NaN\n...           ...\n1547  2831.962415\n1548  2832.113313\n1549  2831.856113\n1550  2831.218914\n1551  2830.332114\n\n[1552 rows x 1 columns]",
      "text/html": "<div>\n<style scoped>\n    .dataframe tbody tr th:only-of-type {\n        vertical-align: middle;\n    }\n\n    .dataframe tbody tr th {\n        vertical-align: top;\n    }\n\n    .dataframe thead th {\n        text-align: right;\n    }\n</style>\n<table border=\"1\" class=\"dataframe\">\n  <thead>\n    <tr style=\"text-align: right;\">\n      <th></th>\n      <th>Close</th>\n    </tr>\n  </thead>\n  <tbody>\n    <tr>\n      <th>0</th>\n      <td>NaN</td>\n    </tr>\n    <tr>\n      <th>1</th>\n      <td>NaN</td>\n    </tr>\n    <tr>\n      <th>2</th>\n      <td>NaN</td>\n    </tr>\n    <tr>\n      <th>3</th>\n      <td>NaN</td>\n    </tr>\n    <tr>\n      <th>4</th>\n      <td>NaN</td>\n    </tr>\n    <tr>\n      <th>...</th>\n      <td>...</td>\n    </tr>\n    <tr>\n      <th>1547</th>\n      <td>2831.962415</td>\n    </tr>\n    <tr>\n      <th>1548</th>\n      <td>2832.113313</td>\n    </tr>\n    <tr>\n      <th>1549</th>\n      <td>2831.856113</td>\n    </tr>\n    <tr>\n      <th>1550</th>\n      <td>2831.218914</td>\n    </tr>\n    <tr>\n      <th>1551</th>\n      <td>2830.332114</td>\n    </tr>\n  </tbody>\n</table>\n<p>1552 rows × 1 columns</p>\n</div>"
     },
     "metadata": {}
    }
   ]
  },
  {
   "cell_type": "code",
   "metadata": {
    "cell_id": "815eed6f-1069-41f3-8f1d-611a1f7336a7",
    "tags": [],
    "deepnote_to_be_reexecuted": false,
    "source_hash": "d4fbe277",
    "execution_start": 1647027893423,
    "execution_millis": 500,
    "deepnote_cell_type": "code",
    "deepnote_cell_height": 576,
    "deepnote_output_heights": [
     335
    ]
   },
   "source": "plt.figure(figsize=(10, 5))\nplt.plot(data['Close'], label =('Google stock'))\nplt.plot(mvs30['Close'], label =('Media movil de 30 periodos'))\nplt.plot(mvs100['Close'], label =('Media movil de 100 periodos'))\nplt.title('Precio de las acciones de google desde el  2016-2022')\nplt.xlabel('3 de junio 2016 hasta 1 de marzo 2022')\nplt.ylabel('precio de cierre en ($)')\nplt.legend(loc ='upper left')\nplt.show()",
   "execution_count": 7,
   "outputs": [
    {
     "data": {
      "text/plain": "<Figure size 720x360 with 1 Axes>",
      "image/png": "[encoded data removed]"
     },
     "metadata": {
      "needs_background": "light",
      "image/png": {
       "width": 621,
       "height": 333
      }
     },
     "output_type": "display_data"
    }
   ]
  },
  {
   "cell_type": "code",
   "metadata": {
    "cell_id": "b04d90d8-03f4-4260-8ad3-47a251cfc964",
    "tags": [],
    "deepnote_to_be_reexecuted": false,
    "source_hash": "ed28337e",
    "execution_start": 1647027893706,
    "execution_millis": 220,
    "deepnote_table_state": {
     "pageSize": 10,
     "pageIndex": 0,
     "filters": [],
     "sortBy": []
    },
    "deepnote_table_loading": false,
    "deepnote_cell_type": "code",
    "deepnote_cell_height": 670
   },
   "source": "datos = pd.DataFrame()\ndatos['Google'] = data['Close']\ndatos['mvs30'] = mvs30['Close']\ndatos['mvs100'] = mvs100['Close']\ndatos",
   "execution_count": 8,
   "outputs": [
    {
     "output_type": "execute_result",
     "execution_count": 8,
     "data": {
      "application/vnd.deepnote.dataframe.v3+json": {
       "column_count": 3,
       "row_count": 1552,
       "columns": [
        {
         "name": "Google",
         "dtype": "float64",
         "stats": {
          "unique_count": 1538,
          "nan_count": 0,
          "min": "668.26001",
          "max": "3014.179932",
          "histogram": [
           {
            "bin_start": 668.26001,
            "bin_end": 902.8520022,
            "count": 333
           },
           {
            "bin_start": 902.8520022,
            "bin_end": 1137.4439944,
            "count": 415
           },
           {
            "bin_start": 1137.4439944,
            "bin_end": 1372.0359866,
            "count": 310
           },
           {
            "bin_start": 1372.0359866,
            "bin_end": 1606.6279788,
            "count": 148
           },
           {
            "bin_start": 1606.6279788,
            "bin_end": 1841.219971,
            "count": 66
           },
           {
            "bin_start": 1841.219971,
            "bin_end": 2075.8119632,
            "count": 31
           },
           {
            "bin_start": 2075.8119632,
            "bin_end": 2310.4039554,
            "count": 38
           },
           {
            "bin_start": 2310.4039554,
            "bin_end": 2544.9959476,
            "count": 43
           },
           {
            "bin_start": 2544.9959476,
            "bin_end": 2779.5879397999997,
            "count": 76
           },
           {
            "bin_start": 2779.5879397999997,
            "bin_end": 3014.179932,
            "count": 92
           }
          ]
         }
        },
        {
         "name": "mvs30",
         "dtype": "float64",
         "stats": {
          "unique_count": 1523,
          "nan_count": 29,
          "min": "704.2339986000001",
          "max": "2940.4926757666667",
          "histogram": [
           {
            "bin_start": 704.2339986000001,
            "bin_end": 927.8598663166667,
            "count": 346
           },
           {
            "bin_start": 927.8598663166667,
            "bin_end": 1151.4857340333333,
            "count": 415
           },
           {
            "bin_start": 1151.4857340333333,
            "bin_end": 1375.1116017499999,
            "count": 282
           },
           {
            "bin_start": 1375.1116017499999,
            "bin_end": 1598.7374694666667,
            "count": 153
           },
           {
            "bin_start": 1598.7374694666667,
            "bin_end": 1822.3633371833334,
            "count": 57
           },
           {
            "bin_start": 1822.3633371833334,
            "bin_end": 2045.9892049,
            "count": 23
           },
           {
            "bin_start": 2045.9892049,
            "bin_end": 2269.6150726166666,
            "count": 40
           },
           {
            "bin_start": 2269.6150726166666,
            "bin_end": 2493.240940333333,
            "count": 41
           },
           {
            "bin_start": 2493.240940333333,
            "bin_end": 2716.8668080499997,
            "count": 39
           },
           {
            "bin_start": 2716.8668080499997,
            "bin_end": 2940.4926757666667,
            "count": 127
           }
          ]
         }
        },
        {
         "name": "mvs100",
         "dtype": "float64",
         "stats": {
          "unique_count": 1453,
          "nan_count": 99,
          "min": "716.93260131",
          "max": "2871.0729077400006",
          "histogram": [
           {
            "bin_start": 716.93260131,
            "bin_end": 932.346631953,
            "count": 325
           },
           {
            "bin_start": 932.346631953,
            "bin_end": 1147.7606625960002,
            "count": 365
           },
           {
            "bin_start": 1147.7606625960002,
            "bin_end": 1363.1746932390001,
            "count": 359
           },
           {
            "bin_start": 1363.1746932390001,
            "bin_end": 1578.5887238820003,
            "count": 89
           },
           {
            "bin_start": 1578.5887238820003,
            "bin_end": 1794.0027545250005,
            "count": 61
           },
           {
            "bin_start": 1794.0027545250005,
            "bin_end": 2009.4167851680004,
            "count": 43
           },
           {
            "bin_start": 2009.4167851680004,
            "bin_end": 2224.8308158110003,
            "count": 34
           },
           {
            "bin_start": 2224.8308158110003,
            "bin_end": 2440.2448464540007,
            "count": 36
           },
           {
            "bin_start": 2440.2448464540007,
            "bin_end": 2655.6588770970006,
            "count": 38
           },
           {
            "bin_start": 2655.6588770970006,
            "bin_end": 2871.0729077400006,
            "count": 103
           }
          ]
         }
        },
        {
         "name": "_deepnote_index_column",
         "dtype": "int64"
        }
       ],
       "rows": [
        {
         "Google": 741.840027,
         "mvs30": "nan",
         "mvs100": "nan",
         "_deepnote_index_column": 0
        },
        {
         "Google": 742.580017,
         "mvs30": "nan",
         "mvs100": "nan",
         "_deepnote_index_column": 1
        },
        {
         "Google": 743.619995,
         "mvs30": "nan",
         "mvs100": "nan",
         "_deepnote_index_column": 2
        },
        {
         "Google": 726.390015,
         "mvs30": "nan",
         "mvs100": "nan",
         "_deepnote_index_column": 3
        },
        {
         "Google": 714.469971,
         "mvs30": "nan",
         "mvs100": "nan",
         "_deepnote_index_column": 4
        },
        {
         "Google": 716.030029,
         "mvs30": "nan",
         "mvs100": "nan",
         "_deepnote_index_column": 5
        },
        {
         "Google": 726.070007,
         "mvs30": "nan",
         "mvs100": "nan",
         "_deepnote_index_column": 6
        },
        {
         "Google": 700.559998,
         "mvs30": "nan",
         "mvs100": "nan",
         "_deepnote_index_column": 7
        },
        {
         "Google": 714.719971,
         "mvs30": "nan",
         "mvs100": "nan",
         "_deepnote_index_column": 8
        },
        {
         "Google": 694.450012,
         "mvs30": "nan",
         "mvs100": "nan",
         "_deepnote_index_column": 9
        }
       ]
      },
      "text/plain": "           Google        mvs30       mvs100\n0      741.840027          NaN          NaN\n1      742.580017          NaN          NaN\n2      743.619995          NaN          NaN\n3      726.390015          NaN          NaN\n4      714.469971          NaN          NaN\n...           ...          ...          ...\n1547  2653.469971  2710.754012  2831.962415\n1548  2690.389893  2706.001677  2832.113313\n1549  2697.820068  2703.175008  2831.856113\n1550  2683.360107  2699.429346  2831.218914\n1551  2695.030029  2698.403345  2830.332114\n\n[1552 rows x 3 columns]",
      "text/html": "<div>\n<style scoped>\n    .dataframe tbody tr th:only-of-type {\n        vertical-align: middle;\n    }\n\n    .dataframe tbody tr th {\n        vertical-align: top;\n    }\n\n    .dataframe thead th {\n        text-align: right;\n    }\n</style>\n<table border=\"1\" class=\"dataframe\">\n  <thead>\n    <tr style=\"text-align: right;\">\n      <th></th>\n      <th>Google</th>\n      <th>mvs30</th>\n      <th>mvs100</th>\n    </tr>\n  </thead>\n  <tbody>\n    <tr>\n      <th>0</th>\n      <td>741.840027</td>\n      <td>NaN</td>\n      <td>NaN</td>\n    </tr>\n    <tr>\n      <th>1</th>\n      <td>742.580017</td>\n      <td>NaN</td>\n      <td>NaN</td>\n    </tr>\n    <tr>\n      <th>2</th>\n      <td>743.619995</td>\n      <td>NaN</td>\n      <td>NaN</td>\n    </tr>\n    <tr>\n      <th>3</th>\n      <td>726.390015</td>\n      <td>NaN</td>\n      <td>NaN</td>\n    </tr>\n    <tr>\n      <th>4</th>\n      <td>714.469971</td>\n      <td>NaN</td>\n      <td>NaN</td>\n    </tr>\n    <tr>\n      <th>...</th>\n      <td>...</td>\n      <td>...</td>\n      <td>...</td>\n    </tr>\n    <tr>\n      <th>1547</th>\n      <td>2653.469971</td>\n      <td>2710.754012</td>\n      <td>2831.962415</td>\n    </tr>\n    <tr>\n      <th>1548</th>\n      <td>2690.389893</td>\n      <td>2706.001677</td>\n      <td>2832.113313</td>\n    </tr>\n    <tr>\n      <th>1549</th>\n      <td>2697.820068</td>\n      <td>2703.175008</td>\n      <td>2831.856113</td>\n    </tr>\n    <tr>\n      <th>1550</th>\n      <td>2683.360107</td>\n      <td>2699.429346</td>\n      <td>2831.218914</td>\n    </tr>\n    <tr>\n      <th>1551</th>\n      <td>2695.030029</td>\n      <td>2698.403345</td>\n      <td>2830.332114</td>\n    </tr>\n  </tbody>\n</table>\n<p>1552 rows × 3 columns</p>\n</div>"
     },
     "metadata": {}
    }
   ]
  },
  {
   "cell_type": "code",
   "metadata": {
    "cell_id": "56925112-5643-47c6-ad08-004e29c63955",
    "tags": [],
    "deepnote_to_be_reexecuted": false,
    "source_hash": "d28d7332",
    "execution_start": 1647027893749,
    "execution_millis": 3,
    "deepnote_cell_type": "code",
    "deepnote_cell_height": 621
   },
   "source": "def senal(datos):\n    compra = []\n    venta = []\n    condicion = 0\n\n    for dia in range(len(datos)):\n\n        if datos['mvs30'][dia] > datos['mvs100'][dia]:\n            if condicion != 1:\n                compra.append(datos['Google'][dia])\n                venta.append(np.nan)\n                condicion = 1\n            else:\n                compra.append(np.nan)\n                venta.append(np.nan)\n        \n        elif datos['mvs30'][dia] < datos['mvs100'][dia]:\n            if condicion != -1:\n                venta.append(datos['Google'][dia])\n                compra.append(np.nan)\n                condicion = -1\n            else:\n                compra.append(np.nan)\n                venta.append(np.nan)\n        \n        else:\n            compra.append(np.nan)\n            venta.append(np.nan)\n    \n    return(compra,venta)\n",
   "execution_count": 9,
   "outputs": []
  },
  {
   "cell_type": "code",
   "metadata": {
    "cell_id": "b9887021-7ea0-473c-87e0-b8b5e97c7b27",
    "tags": [],
    "deepnote_to_be_reexecuted": false,
    "source_hash": "59baffaf",
    "execution_start": 1647027893801,
    "execution_millis": 131,
    "deepnote_table_state": {
     "pageSize": 10,
     "pageIndex": 9,
     "filters": [],
     "sortBy": []
    },
    "deepnote_table_loading": false,
    "deepnote_table_invalid": false,
    "deepnote_cell_type": "code",
    "deepnote_cell_height": 652,
    "deepnote_output_heights": [
     611
    ]
   },
   "source": "senales = senal(datos)\ndatos['Compra'] = senales[0]\ndatos['Venta'] = senales[1]\ndatos",
   "execution_count": 10,
   "outputs": [
    {
     "output_type": "execute_result",
     "execution_count": 10,
     "data": {
      "application/vnd.deepnote.dataframe.v3+json": {
       "column_count": 5,
       "row_count": 1552,
       "columns": [
        {
         "name": "Google",
         "dtype": "float64",
         "stats": {
          "unique_count": 1538,
          "nan_count": 0,
          "min": "668.26001",
          "max": "3014.179932",
          "histogram": [
           {
            "bin_start": 668.26001,
            "bin_end": 902.8520022,
            "count": 333
           },
           {
            "bin_start": 902.8520022,
            "bin_end": 1137.4439944,
            "count": 415
           },
           {
            "bin_start": 1137.4439944,
            "bin_end": 1372.0359866,
            "count": 310
           },
           {
            "bin_start": 1372.0359866,
            "bin_end": 1606.6279788,
            "count": 148
           },
           {
            "bin_start": 1606.6279788,
            "bin_end": 1841.219971,
            "count": 66
           },
           {
            "bin_start": 1841.219971,
            "bin_end": 2075.8119632,
            "count": 31
           },
           {
            "bin_start": 2075.8119632,
            "bin_end": 2310.4039554,
            "count": 38
           },
           {
            "bin_start": 2310.4039554,
            "bin_end": 2544.9959476,
            "count": 43
           },
           {
            "bin_start": 2544.9959476,
            "bin_end": 2779.5879397999997,
            "count": 76
           },
           {
            "bin_start": 2779.5879397999997,
            "bin_end": 3014.179932,
            "count": 92
           }
          ]
         }
        },
        {
         "name": "mvs30",
         "dtype": "float64",
         "stats": {
          "unique_count": 1523,
          "nan_count": 29,
          "min": "704.2339986000001",
          "max": "2940.4926757666667",
          "histogram": [
           {
            "bin_start": 704.2339986000001,
            "bin_end": 927.8598663166667,
            "count": 346
           },
           {
            "bin_start": 927.8598663166667,
            "bin_end": 1151.4857340333333,
            "count": 415
           },
           {
            "bin_start": 1151.4857340333333,
            "bin_end": 1375.1116017499999,
            "count": 282
           },
           {
            "bin_start": 1375.1116017499999,
            "bin_end": 1598.7374694666667,
            "count": 153
           },
           {
            "bin_start": 1598.7374694666667,
            "bin_end": 1822.3633371833334,
            "count": 57
           },
           {
            "bin_start": 1822.3633371833334,
            "bin_end": 2045.9892049,
            "count": 23
           },
           {
            "bin_start": 2045.9892049,
            "bin_end": 2269.6150726166666,
            "count": 40
           },
           {
            "bin_start": 2269.6150726166666,
            "bin_end": 2493.240940333333,
            "count": 41
           },
           {
            "bin_start": 2493.240940333333,
            "bin_end": 2716.8668080499997,
            "count": 39
           },
           {
            "bin_start": 2716.8668080499997,
            "bin_end": 2940.4926757666667,
            "count": 127
           }
          ]
         }
        },
        {
         "name": "mvs100",
         "dtype": "float64",
         "stats": {
          "unique_count": 1453,
          "nan_count": 99,
          "min": "716.93260131",
          "max": "2871.0729077400006",
          "histogram": [
           {
            "bin_start": 716.93260131,
            "bin_end": 932.346631953,
            "count": 325
           },
           {
            "bin_start": 932.346631953,
            "bin_end": 1147.7606625960002,
            "count": 365
           },
           {
            "bin_start": 1147.7606625960002,
            "bin_end": 1363.1746932390001,
            "count": 359
           },
           {
            "bin_start": 1363.1746932390001,
            "bin_end": 1578.5887238820003,
            "count": 89
           },
           {
            "bin_start": 1578.5887238820003,
            "bin_end": 1794.0027545250005,
            "count": 61
           },
           {
            "bin_start": 1794.0027545250005,
            "bin_end": 2009.4167851680004,
            "count": 43
           },
           {
            "bin_start": 2009.4167851680004,
            "bin_end": 2224.8308158110003,
            "count": 34
           },
           {
            "bin_start": 2224.8308158110003,
            "bin_end": 2440.2448464540007,
            "count": 36
           },
           {
            "bin_start": 2440.2448464540007,
            "bin_end": 2655.6588770970006,
            "count": 38
           },
           {
            "bin_start": 2655.6588770970006,
            "bin_end": 2871.0729077400006,
            "count": 103
           }
          ]
         }
        },
        {
         "name": "Compra",
         "dtype": "float64",
         "stats": {
          "unique_count": 8,
          "nan_count": 1544,
          "min": "782.219971",
          "max": "1567.23999",
          "histogram": [
           {
            "bin_start": 782.219971,
            "bin_end": 860.7219729,
            "count": 2
           },
           {
            "bin_start": 860.7219729,
            "bin_end": 939.2239748,
            "count": 0
           },
           {
            "bin_start": 939.2239748,
            "bin_end": 1017.7259767,
            "count": 1
           },
           {
            "bin_start": 1017.7259767,
            "bin_end": 1096.2279786,
            "count": 0
           },
           {
            "bin_start": 1096.2279786,
            "bin_end": 1174.7299805,
            "count": 3
           },
           {
            "bin_start": 1174.7299805,
            "bin_end": 1253.2319824,
            "count": 0
           },
           {
            "bin_start": 1253.2319824,
            "bin_end": 1331.7339843,
            "count": 0
           },
           {
            "bin_start": 1331.7339843,
            "bin_end": 1410.2359862,
            "count": 0
           },
           {
            "bin_start": 1410.2359862,
            "bin_end": 1488.7379881000002,
            "count": 1
           },
           {
            "bin_start": 1488.7379881000002,
            "bin_end": 1567.23999,
            "count": 1
           }
          ]
         }
        },
        {
         "name": "Venta",
         "dtype": "float64",
         "stats": {
          "unique_count": 9,
          "nan_count": 1543,
          "min": "725.27002",
          "max": "2670.129883",
          "histogram": [
           {
            "bin_start": 725.27002,
            "bin_end": 919.7560063000001,
            "count": 2
           },
           {
            "bin_start": 919.7560063000001,
            "bin_end": 1114.2419926,
            "count": 4
           },
           {
            "bin_start": 1114.2419926,
            "bin_end": 1308.7279789,
            "count": 1
           },
           {
            "bin_start": 1308.7279789,
            "bin_end": 1503.2139652,
            "count": 0
           },
           {
            "bin_start": 1503.2139652,
            "bin_end": 1697.6999515000002,
            "count": 1
           },
           {
            "bin_start": 1697.6999515000002,
            "bin_end": 1892.1859378,
            "count": 0
           },
           {
            "bin_start": 1892.1859378,
            "bin_end": 2086.6719241,
            "count": 0
           },
           {
            "bin_start": 2086.6719241,
            "bin_end": 2281.1579104,
            "count": 0
           },
           {
            "bin_start": 2281.1579104,
            "bin_end": 2475.6438967,
            "count": 0
           },
           {
            "bin_start": 2475.6438967,
            "bin_end": 2670.129883,
            "count": 1
           }
          ]
         }
        },
        {
         "name": "_deepnote_index_column",
         "dtype": "int64"
        }
       ],
       "rows": [
        {
         "Google": 713.309998,
         "mvs30": 727.9003357333333,
         "mvs100": "nan",
         "Compra": "nan",
         "Venta": "nan",
         "_deepnote_index_column": 90
        },
        {
         "Google": 710.830017,
         "mvs30": 726.5976705333334,
         "mvs100": "nan",
         "Compra": "nan",
         "Venta": "nan",
         "_deepnote_index_column": 91
        },
        {
         "Google": 716.48999,
         "mvs30": 725.6376709333333,
         "mvs100": "nan",
         "Compra": "nan",
         "Venta": "nan",
         "_deepnote_index_column": 92
        },
        {
         "Google": 706.22998,
         "mvs30": 724.5853373333334,
         "mvs100": "nan",
         "Compra": "nan",
         "Venta": "nan",
         "_deepnote_index_column": 93
        },
        {
         "Google": 706.630005,
         "mvs30": 723.2833374333334,
         "mvs100": "nan",
         "Compra": "nan",
         "Venta": "nan",
         "_deepnote_index_column": 94
        },
        {
         "Google": 700.320007,
         "mvs30": 721.9513367,
         "mvs100": "nan",
         "Compra": "nan",
         "Venta": "nan",
         "_deepnote_index_column": 95
        },
        {
         "Google": 709.73999,
         "mvs30": 720.9710022333334,
         "mvs100": "nan",
         "Compra": "nan",
         "Venta": "nan",
         "_deepnote_index_column": 96
        },
        {
         "Google": 704.23999,
         "mvs30": 719.9090027,
         "mvs100": "nan",
         "Compra": "nan",
         "Venta": "nan",
         "_deepnote_index_column": 97
        },
        {
         "Google": 720.090027,
         "mvs30": 719.1423360333334,
         "mvs100": "nan",
         "Compra": "nan",
         "Venta": "nan",
         "_deepnote_index_column": 98
        },
        {
         "Google": 725.27002,
         "mvs30": 718.260671,
         "mvs100": 719.37300232,
         "Compra": "nan",
         "Venta": 725.27002,
         "_deepnote_index_column": 99
        }
       ]
      },
      "text/plain": "           Google        mvs30       mvs100  Compra  Venta\n0      741.840027          NaN          NaN     NaN    NaN\n1      742.580017          NaN          NaN     NaN    NaN\n2      743.619995          NaN          NaN     NaN    NaN\n3      726.390015          NaN          NaN     NaN    NaN\n4      714.469971          NaN          NaN     NaN    NaN\n...           ...          ...          ...     ...    ...\n1547  2653.469971  2710.754012  2831.962415     NaN    NaN\n1548  2690.389893  2706.001677  2832.113313     NaN    NaN\n1549  2697.820068  2703.175008  2831.856113     NaN    NaN\n1550  2683.360107  2699.429346  2831.218914     NaN    NaN\n1551  2695.030029  2698.403345  2830.332114     NaN    NaN\n\n[1552 rows x 5 columns]",
      "text/html": "<div>\n<style scoped>\n    .dataframe tbody tr th:only-of-type {\n        vertical-align: middle;\n    }\n\n    .dataframe tbody tr th {\n        vertical-align: top;\n    }\n\n    .dataframe thead th {\n        text-align: right;\n    }\n</style>\n<table border=\"1\" class=\"dataframe\">\n  <thead>\n    <tr style=\"text-align: right;\">\n      <th></th>\n      <th>Google</th>\n      <th>mvs30</th>\n      <th>mvs100</th>\n      <th>Compra</th>\n      <th>Venta</th>\n    </tr>\n  </thead>\n  <tbody>\n    <tr>\n      <th>0</th>\n      <td>741.840027</td>\n      <td>NaN</td>\n      <td>NaN</td>\n      <td>NaN</td>\n      <td>NaN</td>\n    </tr>\n    <tr>\n      <th>1</th>\n      <td>742.580017</td>\n      <td>NaN</td>\n      <td>NaN</td>\n      <td>NaN</td>\n      <td>NaN</td>\n    </tr>\n    <tr>\n      <th>2</th>\n      <td>743.619995</td>\n      <td>NaN</td>\n      <td>NaN</td>\n      <td>NaN</td>\n      <td>NaN</td>\n    </tr>\n    <tr>\n      <th>3</th>\n      <td>726.390015</td>\n      <td>NaN</td>\n      <td>NaN</td>\n      <td>NaN</td>\n      <td>NaN</td>\n    </tr>\n    <tr>\n      <th>4</th>\n      <td>714.469971</td>\n      <td>NaN</td>\n      <td>NaN</td>\n      <td>NaN</td>\n      <td>NaN</td>\n    </tr>\n    <tr>\n      <th>...</th>\n      <td>...</td>\n      <td>...</td>\n      <td>...</td>\n      <td>...</td>\n      <td>...</td>\n    </tr>\n    <tr>\n      <th>1547</th>\n      <td>2653.469971</td>\n      <td>2710.754012</td>\n      <td>2831.962415</td>\n      <td>NaN</td>\n      <td>NaN</td>\n    </tr>\n    <tr>\n      <th>1548</th>\n      <td>2690.389893</td>\n      <td>2706.001677</td>\n      <td>2832.113313</td>\n      <td>NaN</td>\n      <td>NaN</td>\n    </tr>\n    <tr>\n      <th>1549</th>\n      <td>2697.820068</td>\n      <td>2703.175008</td>\n      <td>2831.856113</td>\n      <td>NaN</td>\n      <td>NaN</td>\n    </tr>\n    <tr>\n      <th>1550</th>\n      <td>2683.360107</td>\n      <td>2699.429346</td>\n      <td>2831.218914</td>\n      <td>NaN</td>\n      <td>NaN</td>\n    </tr>\n    <tr>\n      <th>1551</th>\n      <td>2695.030029</td>\n      <td>2698.403345</td>\n      <td>2830.332114</td>\n      <td>NaN</td>\n      <td>NaN</td>\n    </tr>\n  </tbody>\n</table>\n<p>1552 rows × 5 columns</p>\n</div>"
     },
     "metadata": {}
    }
   ]
  },
  {
   "cell_type": "code",
   "metadata": {
    "cell_id": "39955eb2-ade3-439f-a2af-6bab47f0af6e",
    "tags": [],
    "deepnote_to_be_reexecuted": false,
    "source_hash": "536758c2",
    "execution_start": 1647027893865,
    "execution_millis": 330,
    "deepnote_cell_type": "code",
    "deepnote_cell_height": 612,
    "deepnote_output_heights": [
     335,
     305
    ]
   },
   "source": "plt.figure(figsize=(10,5))\nplt.plot(datos['Google'], label = 'Google', alpha = 0.3)\nplt.plot(datos['mvs30'], label = 'mvs30', alpha = 0.3)\nplt.plot(datos['mvs100'], label = 'mvs100', alpha = 0.3)\nplt.scatter(datos.index, datos['Compra'], label = 'Precio de Compra', marker = '^', color = 'green')\nplt.scatter(datos.index, datos['Venta'], label = 'Precio de Venta', marker = 'v', color = 'red')\nplt.title('Acciones de Google - Precio de sus acciones desde el 2016 - 2022')\nplt.xlabel('3 de junio 2016 - 1 marzo. 2022')\nplt.ylabel('Precio de cierre ($)')\nplt.legend(loc = 'upper left')\nplt.show()",
   "execution_count": 11,
   "outputs": [
    {
     "data": {
      "text/plain": "<Figure size 720x360 with 1 Axes>",
      "image/png": "[encoded data removed]"
     },
     "metadata": {
      "needs_background": "light",
      "image/png": {
       "width": 621,
       "height": 333
      }
     },
     "output_type": "display_data"
    }
   ]
  },
  {
   "cell_type": "markdown",
   "source": "<a style='text-decoration:none;line-height:16px;display:flex;color:#5B5B62;padding:10px;justify-content:end;' href='https://deepnote.com?utm_source=created-in-deepnote-cell&projectId=add430d6-c4b8-458c-a6b4-6a764b1d4b2b' target=\"_blank\">\n<img alt='Created in deepnote.com' style='display:inline;max-height:16px;margin:0px;margin-right:7.5px;' src='data:image/svg+xml;base64,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' > </img>\nCreated in <span style='font-weight:600;margin-left:4px;'>Deepnote</span></a>",
   "metadata": {
    "tags": [],
    "created_in_deepnote_cell": true,
    "deepnote_cell_type": "markdown"
   }
  }
 ],
 "nbformat": 4,
 "nbformat_minor": 2,
 "metadata": {
  "orig_nbformat": 2,
  "deepnote": {
   "is_reactive": false
  },
  "deepnote_notebook_id": "3140530f-f39a-4496-b2f6-786c84aa779e",
  "deepnote_execution_queue": []
 }
}